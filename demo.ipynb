{
 "cells": [
  {
   "cell_type": "markdown",
   "id": "de226962-7f17-4131-a1ff-c7ac9efcf67b",
   "metadata": {},
   "source": [
    "# RobustFill Demo"
   ]
  },
  {
   "cell_type": "code",
   "execution_count": 1,
   "id": "b687a625-5a6b-4390-be58-39eaa8e88e33",
   "metadata": {
    "tags": []
   },
   "outputs": [],
   "source": [
    "from heapq import nlargest\n",
    "import torch\n",
    "import torch.nn as nn\n",
    "from beam import beam_search\n",
    "from tokens import Tokenizer\n",
    "from train import full_config"
   ]
  },
  {
   "cell_type": "markdown",
   "id": "a3081863-3a18-4eef-8b90-03c6debf1f46",
   "metadata": {},
   "source": [
    "## Download checkpoint and load it"
   ]
  },
  {
   "cell_type": "code",
   "execution_count": 2,
   "id": "50fcc260-d10b-455b-b65c-59db46784107",
   "metadata": {
    "tags": []
   },
   "outputs": [
    {
     "data": {
      "text/plain": [
       "<All keys matched successfully>"
      ]
     },
     "execution_count": 2,
     "metadata": {},
     "output_type": "execute_result"
    }
   ],
   "source": [
    "tokenizer = Tokenizer.create()\n",
    "config = full_config()\n",
    "model = nn.DataParallel(config.model)\n",
    "# Get the checkpoint from: https://huggingface.co/eddyyeo/robustfill\n",
    "loaded = torch.load('./checkpoint.pth', map_location=torch.device('cpu'))\n",
    "model.load_state_dict(loaded['model_state_dict'])"
   ]
  },
  {
   "cell_type": "markdown",
   "id": "ea23405d-00c7-4fde-9220-39730795e785",
   "metadata": {},
   "source": [
    "## Architecture of the Model"
   ]
  },
  {
   "cell_type": "code",
   "execution_count": 3,
   "id": "53b619e5-245c-407a-af7b-12c22673ec28",
   "metadata": {
    "tags": []
   },
   "outputs": [
    {
     "data": {
      "text/plain": [
       "DataParallel(\n",
       "  (module): RobustFill(\n",
       "    (embedding): Embedding(75, 128)\n",
       "    (input_encoder): LSTM(128, 512)\n",
       "    (output_encoder): AttentionLSTM(\n",
       "      (rnn): SingleAttention(\n",
       "        (attention): LuongAttention(\n",
       "          (linear): Linear(in_features=512, out_features=512, bias=True)\n",
       "        )\n",
       "        (lstm): LSTM(640, 512)\n",
       "      )\n",
       "    )\n",
       "    (program_decoder): ProgramDecoder(\n",
       "      (program_lstm): SingleAttention(\n",
       "        (attention): LuongAttention(\n",
       "          (linear): Linear(in_features=512, out_features=512, bias=True)\n",
       "        )\n",
       "        (lstm): LSTM(1050, 512)\n",
       "      )\n",
       "      (max_pool_linear): Linear(in_features=512, out_features=512, bias=True)\n",
       "      (softmax_linear): Linear(in_features=512, out_features=538, bias=True)\n",
       "    )\n",
       "  )\n",
       ")"
      ]
     },
     "execution_count": 3,
     "metadata": {},
     "output_type": "execute_result"
    }
   ],
   "source": [
    "model"
   ]
  },
  {
   "cell_type": "markdown",
   "id": "a32f83a2-4929-4cca-b679-59d1b75284bc",
   "metadata": {
    "tags": []
   },
   "source": [
    "## Example input-output pairs"
   ]
  },
  {
   "cell_type": "code",
   "execution_count": 4,
   "id": "93624c41-bea9-4a23-bb26-7e14c7770345",
   "metadata": {
    "tags": []
   },
   "outputs": [],
   "source": [
    "example_strings = [\n",
    "    ('Jacob Devlin', 'Devlin, J.'),\n",
    "    ('Eddy Yeo', 'Yeo, E.'),\n",
    "    ('Andrej Karpathy', 'Karpathy, A.'),\n",
    "    ('Anatoly Yakovenko', 'Yakovenko, A.'),\n",
    "]"
   ]
  },
  {
   "cell_type": "markdown",
   "id": "73baee41-aee5-408d-a8d5-c40cc15d049f",
   "metadata": {},
   "source": [
    "## Strings to transform with the generated program"
   ]
  },
  {
   "cell_type": "code",
   "execution_count": 5,
   "id": "729e4d97-9fc6-49a7-98bc-e825d2c39d60",
   "metadata": {
    "tags": []
   },
   "outputs": [],
   "source": [
    "test_strings = [\n",
    "    'Elon Musk',\n",
    "    'Joe Rogan',\n",
    "    'Balaji Srinivasan',\n",
    "]"
   ]
  },
  {
   "cell_type": "code",
   "execution_count": 6,
   "id": "048eda10-dd4a-47e7-970d-2ef785dc9a94",
   "metadata": {},
   "outputs": [],
   "source": [
    "topk = beam_search(\n",
    "    model=model.module,\n",
    "    tokenizer=tokenizer,\n",
    "    width=100,\n",
    "    max_program_length=64,\n",
    "    strings=example_strings)"
   ]
  },
  {
   "cell_type": "markdown",
   "id": "cc7ef7ec-9d40-4655-95ab-cfff4e153ee5",
   "metadata": {},
   "source": [
    "## Transformed strings"
   ]
  },
  {
   "cell_type": "code",
   "execution_count": 7,
   "id": "5299536a-7277-4f86-9e0d-5391ea7da035",
   "metadata": {
    "tags": []
   },
   "outputs": [
    {
     "name": "stdout",
     "output_type": "stream",
     "text": [
      "Elon Musk --> Musk, E.\n",
      "Joe Rogan --> Rogan, J.\n",
      "Balaji Srinivasan --> Srinivasan, B.\n"
     ]
    }
   ],
   "source": [
    "program = tokenizer.parse_program(nlargest(5, topk)[0][1])\n",
    "for ts in test_strings:\n",
    "    print(f'{ts} --> {program.eval(ts)}')"
   ]
  },
  {
   "cell_type": "markdown",
   "id": "5a888085-1927-432f-b9b2-e2afa874ea3b",
   "metadata": {},
   "source": [
    "## Generated program"
   ]
  },
  {
   "cell_type": "code",
   "execution_count": 8,
   "id": "bf28a2fe-a735-4247-afbe-a7a254d37913",
   "metadata": {
    "tags": []
   },
   "outputs": [
    {
     "data": {
      "text/plain": [
       "Concat(\n",
       "    Compose(\n",
       "        Trim(),\n",
       "        GetFrom(<Type.LOWER: 6>)\n",
       "    ),\n",
       "    ConstStr(','),\n",
       "    ConstStr(' '),\n",
       "    GetUpto(<Type.CHAR: 8>),\n",
       "    ConstStr('.')\n",
       ")"
      ]
     },
     "execution_count": 8,
     "metadata": {},
     "output_type": "execute_result"
    }
   ],
   "source": [
    "program"
   ]
  }
 ],
 "metadata": {
  "kernelspec": {
   "display_name": "Python 3 (ipykernel)",
   "language": "python",
   "name": "python3"
  },
  "language_info": {
   "codemirror_mode": {
    "name": "ipython",
    "version": 3
   },
   "file_extension": ".py",
   "mimetype": "text/x-python",
   "name": "python",
   "nbconvert_exporter": "python",
   "pygments_lexer": "ipython3",
   "version": "3.10.9"
  }
 },
 "nbformat": 4,
 "nbformat_minor": 5
}
